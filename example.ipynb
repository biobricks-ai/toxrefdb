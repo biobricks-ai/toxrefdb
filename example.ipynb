{
 "cells": [
  {
   "cell_type": "markdown",
   "metadata": {},
   "source": [
    "# Toxrefdb - Toxicity Reference Database\n",
    "Example notebook shows how to generate the [toxrefdb blog post](https://insilica.co/posts/2023-11-11-toxrefdb/)"
   ]
  },
  {
   "cell_type": "code",
   "execution_count": 3,
   "metadata": {},
   "outputs": [
    {
     "ename": "TypeError",
     "evalue": "'types.SimpleNamespace' object is not subscriptable",
     "output_type": "error",
     "traceback": [
      "\u001b[0;31m---------------------------------------------------------------------------\u001b[0m",
      "\u001b[0;31mTypeError\u001b[0m                                 Traceback (most recent call last)",
      "Cell \u001b[0;32mIn[3], line 6\u001b[0m\n\u001b[1;32m      4\u001b[0m \u001b[38;5;66;03m# Access the ToxRefDB asset\u001b[39;00m\n\u001b[1;32m      5\u001b[0m assets \u001b[38;5;241m=\u001b[39m bb\u001b[38;5;241m.\u001b[39massets(\u001b[38;5;124m\"\u001b[39m\u001b[38;5;124mtoxrefdb\u001b[39m\u001b[38;5;124m\"\u001b[39m)\n\u001b[0;32m----> 6\u001b[0m conn \u001b[38;5;241m=\u001b[39m sqlite3\u001b[38;5;241m.\u001b[39mconnect(\u001b[43massets\u001b[49m\u001b[43m[\u001b[49m\u001b[38;5;124;43m'\u001b[39;49m\u001b[38;5;124;43mtoxrefdb_sqlite\u001b[39;49m\u001b[38;5;124;43m'\u001b[39;49m\u001b[43m]\u001b[49m)\n\u001b[1;32m      8\u001b[0m \u001b[38;5;66;03m# Query to get NOAEL data\u001b[39;00m\n\u001b[1;32m      9\u001b[0m query \u001b[38;5;241m=\u001b[39m \u001b[38;5;124m\"\"\"\u001b[39m\n\u001b[1;32m     10\u001b[0m \u001b[38;5;124mSELECT c.preferred_name AS chemical_name,\u001b[39m\n\u001b[1;32m     11\u001b[0m \u001b[38;5;124m       g.name AS guideline_name,\u001b[39m\n\u001b[0;32m   (...)\u001b[0m\n\u001b[1;32m     17\u001b[0m \u001b[38;5;124mWHERE p.pod_type = \u001b[39m\u001b[38;5;124m'\u001b[39m\u001b[38;5;124mnoael\u001b[39m\u001b[38;5;124m'\u001b[39m\n\u001b[1;32m     18\u001b[0m \u001b[38;5;124m\"\"\"\u001b[39m\n",
      "\u001b[0;31mTypeError\u001b[0m: 'types.SimpleNamespace' object is not subscriptable"
     ]
    }
   ],
   "source": [
    "import sqlite3, pandas as pd\n",
    "import biobricks as bb\n",
    "\n",
    "# Access the ToxRefDB asset\n",
    "assets = bb.assets(\"toxrefdb\")\n",
    "conn = sqlite3.connect(assets.toxrefdb_sqlite)\n",
    "\n",
    "# Query to get NOAEL data\n",
    "query = \"\"\"\n",
    "SELECT c.preferred_name AS chemical_name,\n",
    "       g.name AS guideline_name,\n",
    "       p.dose_level < p.max_dose_level AS adverse\n",
    "FROM pod p\n",
    "JOIN chemical c ON p.chemical_id = c.chemical_id\n",
    "JOIN study s ON p.study_id = s.study_id\n",
    "JOIN guideline g ON s.guideline_id = g.guideline_id\n",
    "WHERE p.pod_type = 'noael'\n",
    "\"\"\"\n",
    "data = pd.read_sql_query(query, conn)\n",
    "\n",
    "# Count hazardous and non-hazardous compounds for each guideline\n",
    "summary = data.groupby(['guideline_name', 'adverse']).size().unstack(fill_value=0)\n",
    "summary\n"
   ]
  },
  {
   "cell_type": "code",
   "execution_count": null,
   "metadata": {},
   "outputs": [],
   "source": [
    "import matplotlib.pyplot as plt\n",
    "# Plot the data\n",
    "summary.plot(kind='bar', stacked=True)\n",
    "plt.xlabel('Guideline')\n",
    "plt.ylabel('Count')\n",
    "plt.title('Counts of Hazardous and Non-Hazardous Compounds by Guideline')\n",
    "plt.legend(['Non-Hazardous', 'Hazardous'], loc='upper right')\n",
    "plt.tight_layout()\n",
    "plt.show()"
   ]
  }
 ],
 "metadata": {
  "kernelspec": {
   "display_name": "cvae",
   "language": "python",
   "name": "python3"
  },
  "language_info": {
   "codemirror_mode": {
    "name": "ipython",
    "version": 3
   },
   "file_extension": ".py",
   "mimetype": "text/x-python",
   "name": "python",
   "nbconvert_exporter": "python",
   "pygments_lexer": "ipython3",
   "version": "3.9.18"
  }
 },
 "nbformat": 4,
 "nbformat_minor": 2
}
